{
  "nbformat": 4,
  "nbformat_minor": 0,
  "metadata": {
    "colab": {
      "private_outputs": true,
      "provenance": [],
      "authorship_tag": "ABX9TyN3UAc+7v7pItjCFJkUmB3E",
      "include_colab_link": true
    },
    "kernelspec": {
      "name": "python3",
      "display_name": "Python 3"
    },
    "language_info": {
      "name": "python"
    }
  },
  "cells": [
    {
      "cell_type": "markdown",
      "metadata": {
        "id": "view-in-github",
        "colab_type": "text"
      },
      "source": [
        "<a href=\"https://colab.research.google.com/github/tehmik3/rock..../blob/main/RockPaperScissorsipynb.ipynb\" target=\"_parent\"><img src=\"https://colab.research.google.com/assets/colab-badge.svg\" alt=\"Open In Colab\"/></a>"
      ]
    },
    {
      "cell_type": "markdown",
      "source": [
        "# ***Rock Paper Scissors***\n",
        "\n"
      ],
      "metadata": {
        "id": "164549SLujsU"
      }
    },
    {
      "cell_type": "code",
      "execution_count": null,
      "metadata": {
        "id": "ZfBQ8E20ue6Z"
      },
      "outputs": [],
      "source": [
        "import random\n",
        "\n",
        "def play():\n",
        "  user = input(\"Whats your choice? 'r' for rock, 'p' for paper, 's' for scissors\\n\")\n",
        "  computer = random.choice(['r', 'p', 's'])\n",
        "  if user == computer:\n",
        "    return 'It\\'s a Tie!'\n",
        "\n",
        "  # r > s, s > p, p > r\n",
        "  if is_win(user, computer):\n",
        "    return 'You Won!'\n",
        "\n",
        "  return 'You Lost!'\n",
        "\n",
        "\n",
        "def is_win(player, opponent):\n",
        "  # return true if player win\n",
        "   # r > s, s > p, p > r\n",
        "  if (player == 'r' and opponent == 's') or (player == 's' and opponent == 'p') or (player == 'p' and opponent == 'r'):\n",
        "    return True\n",
        "  return False\n",
        "\n",
        "print(play())\n"
      ]
    }
  ]
}